{
 "cells": [
  {
   "cell_type": "markdown",
   "metadata": {},
   "source": [
    "Crude generation of rating data.  "
   ]
  },
  {
   "cell_type": "code",
   "execution_count": 5,
   "metadata": {
    "collapsed": true
   },
   "outputs": [],
   "source": [
    "num_users = 6000\n",
    "num_ratings_per_user_min = 20\n",
    "num_ratings_per_user_max = 100\n",
    "\n",
    "min_movie_id = 1\n",
    "max_movie_id = 1988"
   ]
  },
  {
   "cell_type": "code",
   "execution_count": 7,
   "metadata": {
    "collapsed": false
   },
   "outputs": [],
   "source": [
    "import random\n",
    "\n",
    "with open('ratings.dat', 'w') as file_handler:\n",
    "    for user_id in range(1, num_users):\n",
    "        \n",
    "        movie_ids = [random.randrange(min_movie_id, max_movie_id) for _ in range(num_ratings_per_user_min, num_ratings_per_user_max)]\n",
    "        \n",
    "        for movie_id in movie_ids:\n",
    "        \n",
    "            rating = random.randrange(1, 5)\n",
    "            \n",
    "            file_handler.write(\"{}::{}::{}::N/A\\n\".format(\n",
    "                    user_id, \n",
    "                    movie_id,\n",
    "                    rating\n",
    "                ))\n",
    "\n",
    "    \n"
   ]
  },
  {
   "cell_type": "code",
   "execution_count": null,
   "metadata": {
    "collapsed": true
   },
   "outputs": [],
   "source": []
  }
 ],
 "metadata": {
  "anaconda-cloud": {},
  "kernelspec": {
   "display_name": "Python [default]",
   "language": "python",
   "name": "python3"
  },
  "language_info": {
   "codemirror_mode": {
    "name": "ipython",
    "version": 3
   },
   "file_extension": ".py",
   "mimetype": "text/x-python",
   "name": "python",
   "nbconvert_exporter": "python",
   "pygments_lexer": "ipython3",
   "version": "3.5.2"
  }
 },
 "nbformat": 4,
 "nbformat_minor": 1
}
