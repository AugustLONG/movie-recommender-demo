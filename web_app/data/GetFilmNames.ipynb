{
 "cells": [
  {
   "cell_type": "code",
   "execution_count": 124,
   "metadata": {
    "collapsed": false
   },
   "outputs": [],
   "source": [
    "def get_film_names(url, year):\n",
    "    \n",
    "    import requests\n",
    "    html_doc = requests.get(url).text\n",
    "\n",
    "    from bs4 import BeautifulSoup\n",
    "    soup = BeautifulSoup(html_doc, 'html.parser')\n",
    "\n",
    "    film_names = []\n",
    "    table_headers = soup.find_all(\"th\", text=\"Opening\" )\n",
    "\n",
    "    for th in table_headers:\n",
    "        table = th.parent.parent\n",
    "        for tr in table.find_all('tr'):\n",
    "            ind = 0\n",
    "            for td in tr.find_all('td', rowspan=lambda x: x is None):\n",
    "                if ind == 0:\n",
    "                    film_name = td.find(text=True)\n",
    "                    try:\n",
    "                        int(film_name.string)\n",
    "                    except ValueError:\n",
    "                        film_names.append('{0} ({1})'.format(film_name, year))\n",
    "                ind += 1\n",
    "    \n",
    "    return film_names"
   ]
  },
  {
   "cell_type": "code",
   "execution_count": 135,
   "metadata": {
    "collapsed": false
   },
   "outputs": [],
   "source": [
    "year = ['2010', '2011', '2012', '2013', '2014', '2015', '2016', '2017']\n",
    "films = []\n",
    "for y in year:\n",
    "    films = films + (\n",
    "        get_film_names(\n",
    "            'https://en.wikipedia.org/wiki/{0}_in_film'.format(y), y\n",
    "        )\n",
    "    )\n",
    "\n",
    "with open('movies.dat', 'w') as file_handler:\n",
    "    for item in list(enumerate(films, start=1)):\n",
    "        file_handler.write(\"{}::{}::N/A\\n\".format(item[0], item[1]))\n",
    "\n",
    "    \n"
   ]
  },
  {
   "cell_type": "code",
   "execution_count": null,
   "metadata": {
    "collapsed": true
   },
   "outputs": [],
   "source": []
  }
 ],
 "metadata": {
  "anaconda-cloud": {},
  "kernelspec": {
   "display_name": "Python [default]",
   "language": "python",
   "name": "python3"
  },
  "language_info": {
   "codemirror_mode": {
    "name": "ipython",
    "version": 3
   },
   "file_extension": ".py",
   "mimetype": "text/x-python",
   "name": "python",
   "nbconvert_exporter": "python",
   "pygments_lexer": "ipython3",
   "version": "3.5.2"
  }
 },
 "nbformat": 4,
 "nbformat_minor": 1
}
