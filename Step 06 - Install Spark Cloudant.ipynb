{
    "nbformat_minor": 0, 
    "cells": [
        {
            "cell_type": "markdown", 
            "metadata": {}, 
            "source": "This only needs to be run once against your spark service."
        }, 
        {
            "cell_type": "code", 
            "execution_count": 1, 
            "source": "import sys.process._\n\nval HOME = sys.env(\"HOME\")\nval DESTDIR = s\"${HOME}/data/libs/scala-2.10\"\n\ns\"test -d ${DESTDIR}\" #|| s\"mkdir -p ${DESTDIR}\" !\ns\"wget -q -c -O ${DESTDIR}/cloudant-spark-v1.6.4-167.jar https://github.com/cloudant-labs/spark-cloudant/releases/download/v1.6.4/cloudant-spark-v1.6.4-167.jar\" !\ns\"ls ${DESTDIR}/\" !", 
            "outputs": [
                {
                    "text": "cloudant-client-2.7.0.jar\ncloudant-spark-v1.6.4-167.jar\n", 
                    "output_type": "stream", 
                    "name": "stdout"
                }
            ], 
            "metadata": {
                "collapsed": false, 
                "scrolled": true
            }
        }, 
        {
            "cell_type": "markdown", 
            "metadata": {}, 
            "source": "After running the above code, restart the kernel"
        }, 
        {
            "cell_type": "code", 
            "execution_count": null, 
            "source": "", 
            "outputs": [], 
            "metadata": {
                "collapsed": true
            }
        }
    ], 
    "metadata": {
        "kernelspec": {
            "display_name": "Scala 2.10 with Spark 1.6", 
            "language": "scala", 
            "name": "scala"
        }, 
        "language_info": {
            "name": "scala"
        }
    }, 
    "nbformat": 4
}